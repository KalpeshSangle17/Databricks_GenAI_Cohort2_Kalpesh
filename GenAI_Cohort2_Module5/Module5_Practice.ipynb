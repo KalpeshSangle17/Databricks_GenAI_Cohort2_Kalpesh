{
 "cells": [
  {
   "cell_type": "code",
   "execution_count": 0,
   "metadata": {
    "application/vnd.databricks.v1+cell": {
     "cellMetadata": {
      "byteLimit": 2048000,
      "rowLimit": 10000
     },
     "inputWidgets": {},
     "nuid": "36dfbf35-03bf-4640-8acc-e906e543b514",
     "showTitle": false,
     "tableResultSettingsMap": {},
     "title": ""
    }
   },
   "outputs": [],
   "source": [
    "%pip install -U langgraph langsmith langchain transformers langchain_community"
   ]
  },
  {
   "cell_type": "code",
   "execution_count": 0,
   "metadata": {
    "application/vnd.databricks.v1+cell": {
     "cellMetadata": {
      "byteLimit": 2048000,
      "rowLimit": 10000
     },
     "inputWidgets": {},
     "nuid": "96da49f1-57e5-4a26-a8b5-e185071ffd28",
     "showTitle": false,
     "tableResultSettingsMap": {},
     "title": ""
    }
   },
   "outputs": [],
   "source": [
    "%pip install --upgrade mlflow"
   ]
  },
  {
   "cell_type": "code",
   "execution_count": 0,
   "metadata": {
    "application/vnd.databricks.v1+cell": {
     "cellMetadata": {
      "byteLimit": 2048000,
      "rowLimit": 10000
     },
     "inputWidgets": {},
     "nuid": "7dac10cb-619a-4a09-871f-6cbd462e448c",
     "showTitle": false,
     "tableResultSettingsMap": {},
     "title": ""
    }
   },
   "outputs": [],
   "source": [
    "#list of availble models\n",
    "import mlflow\n",
    "\n",
    "client = mlflow.client.MlflowClient()\n",
    "models = client.search_registered_models()\n",
    "\n",
    "for model in models:\n",
    "    print(\"Model Name:\", model.name)\n",
    "    if model.latest_versions is not None:\n",
    "        for version in model.latest_versions:\n",
    "            print(f\" - Version: {version.version}, Stage: {version.current_stage}\")"
   ]
  },
  {
   "cell_type": "code",
   "execution_count": 0,
   "metadata": {
    "application/vnd.databricks.v1+cell": {
     "cellMetadata": {
      "byteLimit": 2048000,
      "rowLimit": 10000
     },
     "inputWidgets": {},
     "nuid": "092089b8-1cba-41ae-9e58-01e6339bb83d",
     "showTitle": false,
     "tableResultSettingsMap": {},
     "title": ""
    }
   },
   "outputs": [],
   "source": [
    "# Install torch in your Databricks notebook\n",
    "%pip install torch\n"
   ]
  },
  {
   "cell_type": "code",
   "execution_count": 0,
   "metadata": {
    "application/vnd.databricks.v1+cell": {
     "cellMetadata": {
      "byteLimit": 2048000,
      "rowLimit": 10000
     },
     "inputWidgets": {},
     "nuid": "0103a674-d195-4b20-95f3-e638ab46b7b4",
     "showTitle": false,
     "tableResultSettingsMap": {},
     "title": ""
    }
   },
   "outputs": [],
   "source": [
    "import mlflow\n",
    "\n",
    "model_name = \"system.ai.llama_v3_2_1b_instruct\"\n",
    "model_version = \"2\"\n",
    "\n",
    "model_uri = f\"models:/{model_name}/{model_version}\"\n",
    "\n",
    "print(f\"Loading model: {model_name}...\")\n",
    "loaded_model = mlflow.pyfunc.load_model(model_uri)\n",
    "print(\"Model successfully loaded!\")"
   ]
  },
  {
   "cell_type": "code",
   "execution_count": 0,
   "metadata": {
    "application/vnd.databricks.v1+cell": {
     "cellMetadata": {
      "byteLimit": 2048000,
      "rowLimit": 10000
     },
     "inputWidgets": {},
     "nuid": "3ecb3837-97b7-4e9e-bf42-f5a1012fc821",
     "showTitle": false,
     "tableResultSettingsMap": {},
     "title": ""
    }
   },
   "outputs": [],
   "source": [
    "!python --version"
   ]
  },
  {
   "cell_type": "code",
   "execution_count": 0,
   "metadata": {
    "application/vnd.databricks.v1+cell": {
     "cellMetadata": {
      "byteLimit": 2048000,
      "rowLimit": 10000
     },
     "inputWidgets": {},
     "nuid": "1857d0d8-715b-4040-bf9c-14e2207b2f86",
     "showTitle": false,
     "tableResultSettingsMap": {},
     "title": ""
    }
   },
   "outputs": [],
   "source": [
    "# Define a simple prompt\n",
    "prompt = \"What are the key advantages of AI in modern businesses?\""
   ]
  },
  {
   "cell_type": "code",
   "execution_count": 0,
   "metadata": {
    "application/vnd.databricks.v1+cell": {
     "cellMetadata": {
      "byteLimit": 2048000,
      "rowLimit": 10000
     },
     "inputWidgets": {},
     "nuid": "5013cc17-e141-4b0a-a6e8-ea8e18e32800",
     "showTitle": false,
     "tableResultSettingsMap": {},
     "title": ""
    }
   },
   "outputs": [],
   "source": [
    "# Prepare input in the required schema\n",
    "input_data = {\n",
    "    \"messages\": [\n",
    "        {\n",
    "            \"role\": \"user\",\n",
    "            \"content\": \"What are the key advantages of AI in modern businesses?\"\n",
    "        }\n",
    "    ]\n",
    "}\n",
    "\n",
    "# Call the model's predict function\n",
    "response = loaded_model.predict([input_data])"
   ]
  },
  {
   "cell_type": "code",
   "execution_count": 0,
   "metadata": {
    "application/vnd.databricks.v1+cell": {
     "cellMetadata": {
      "byteLimit": 2048000,
      "rowLimit": 10000
     },
     "inputWidgets": {},
     "nuid": "f2aea519-1d5a-4f13-924c-7ddd16e730cf",
     "showTitle": false,
     "tableResultSettingsMap": {},
     "title": ""
    }
   },
   "outputs": [],
   "source": [
    "import json\n",
    "\n",
    "print(\"Generated Response:\")\n",
    "print(json.dumps(response[0], indent=2))"
   ]
  },
  {
   "cell_type": "code",
   "execution_count": 0,
   "metadata": {
    "application/vnd.databricks.v1+cell": {
     "cellMetadata": {
      "byteLimit": 2048000,
      "rowLimit": 10000
     },
     "inputWidgets": {},
     "nuid": "e8b52558-fdad-4ebd-ad82-5412c69b91ad",
     "showTitle": false,
     "tableResultSettingsMap": {},
     "title": ""
    }
   },
   "outputs": [],
   "source": [
    "from typing import Annotated, TypedDict, List\n",
    "import mlflow\n",
    "from langchain.schema import HumanMessage, AIMessage\n",
    "from langgraph.graph import StateGraph, START, END\n",
    "from langgraph.graph.message import add_messages\n",
    "\n",
    "# Define the State schema using Annotated for dynamic validation\n",
    "class State(TypedDict):\n",
    "    messages: Annotated[List[HumanMessage], add_messages]\n",
    "\n",
    "# Define the StateGraph builder\n",
    "graph_builder = StateGraph(State)\n",
    "\n",
    "# Define the chatbot interaction function\n",
    "def chatbot(state: State) -> State:\n",
    "    \"\"\"\n",
    "    Processes the latest state, sends the input to the MLflow model, and\n",
    "    directly appends the model's raw response to the state.\n",
    "    \"\"\"\n",
    "    # Prepare input in the required schema (list of dictionaries)\n",
    "    input_data = {\n",
    "        \"messages\": [\n",
    "            {\n",
    "                \"role\": \"user\",  # Default role for HumanMessage\n",
    "                \"content\": message.content\n",
    "            }\n",
    "            for message in state[\"messages\"]\n",
    "        ]\n",
    "    }\n",
    "\n",
    "    # Log the input being sent to the model (for debugging purposes)\n",
    "    print(\"Input to MLflow model:\", input_data)\n",
    "\n",
    "    # Call the MLflow model's predict function\n",
    "    response = loaded_model.predict([input_data])  # Pass as a list\n",
    "\n",
    "    # Log the raw response from the model (for debugging purposes)\n",
    "    print(\"Response from MLflow model:\", response)\n",
    "\n",
    "    # Append the raw response directly to the state\n",
    "    # Convert the model's response to a single string (if necessary)\n",
    "    ai_response = str(response)  # Ensure everything becomes a string representation\n",
    "\n",
    "    # Update state by appending an AIMessage with the model's response\n",
    "    return {\n",
    "        \"messages\": state[\"messages\"] + [AIMessage(content=ai_response)]\n",
    "    }\n",
    "\n",
    "# Add the chatbot node to the graph\n",
    "graph_builder.add_node(\"chatbot\", chatbot)\n",
    "\n",
    "# Define the conversation flow by connecting nodes\n",
    "graph_builder.add_edge(START, \"chatbot\")  # Start point to chatbot\n",
    "graph_builder.add_edge(\"chatbot\", END)   # Endpoint after chatbot response\n",
    "\n",
    "# Compile the StateGraph\n",
    "graph = graph_builder.compile()\n",
    "\n",
    "# Example usage of the chatbot graph with initial state\n",
    "if __name__ == \"__main__\":\n",
    "    # Initialize a state with a single message\n",
    "    state: State = {\n",
    "        \"messages\": [\n",
    "            HumanMessage(content=\"What are the key advantages of AI in modern businesses?\")\n",
    "        ]\n",
    "    }\n",
    "\n",
    "    # Execute the graph to process the conversation flow\n",
    "    updated_state = graph.invoke(state)\n",
    "\n",
    "    # Display the AI's response\n",
    "    print(\"Chatbot response:\", updated_state[\"messages\"][-1].content)"
   ]
  },
  {
   "cell_type": "code",
   "execution_count": 0,
   "metadata": {
    "application/vnd.databricks.v1+cell": {
     "cellMetadata": {
      "byteLimit": 2048000,
      "rowLimit": 10000
     },
     "inputWidgets": {},
     "nuid": "57bd473e-e9b5-45a1-98ee-c7c79110e2c7",
     "showTitle": false,
     "tableResultSettingsMap": {},
     "title": ""
    }
   },
   "outputs": [],
   "source": [
    "from IPython.display import Image, display\n",
    "\n",
    "try:\n",
    "    display(Image(graph.get_graph().draw_mermaid_png()))\n",
    "except Exception:\n",
    "    # This requires some extra dependencies and is optional\n",
    "    pass"
   ]
  },
  {
   "cell_type": "code",
   "execution_count": 0,
   "metadata": {
    "application/vnd.databricks.v1+cell": {
     "cellMetadata": {
      "byteLimit": 2048000,
      "rowLimit": 10000
     },
     "inputWidgets": {},
     "nuid": "d4af63ba-ccfd-4d65-a4b2-9fdf9ea23553",
     "showTitle": false,
     "tableResultSettingsMap": {},
     "title": ""
    }
   },
   "outputs": [],
   "source": [
    "from typing import Annotated, TypedDict, List\n",
    "import mlflow\n",
    "from langchain.schema import HumanMessage, AIMessage\n",
    "from langgraph.graph import StateGraph, START, END\n",
    "from langgraph.graph.message import add_messages\n",
    "\n",
    "# Define the State schema using Annotated\n",
    "class State(TypedDict):\n",
    "    messages: Annotated[List[HumanMessage], add_messages]\n",
    "    \n",
    "# Define the StateGraph builder\n",
    "graph_builder = StateGraph(State)\n",
    "\n",
    "# Define the chatbot interaction function\n",
    "def chatbot(state: State) -> State:\n",
    "    \"\"\"\n",
    "    Processes user input, sends it to the MLflow model, and appends \n",
    "    the model's response to the state.\n",
    "    \"\"\"\n",
    "    # Prepare input for the model\n",
    "    input_data = {\n",
    "        \"messages\": [\n",
    "            {\n",
    "                \"role\": \"user\",\n",
    "                \"content\": message.content\n",
    "            }\n",
    "            for message in state[\"messages\"]\n",
    "        ]\n",
    "    }\n",
    "\n",
    "    # Call the MLflow model's predict function\n",
    "    response = loaded_model.predict([input_data])  # The predict method requires a list containing a dictionary\n",
    "    ai_response = str(response)  # Convert the raw response to a string\n",
    "    \n",
    "    # Append the AI response to the state\n",
    "    return {\n",
    "        \"messages\": state[\"messages\"] + [AIMessage(content=ai_response)]\n",
    "    }\n",
    "\n",
    "\n",
    "# Add the chatbot node to the graph\n",
    "graph_builder.add_node(\"chatbot\", chatbot)\n",
    "\n",
    "# Define the conversation flow\n",
    "graph_builder.add_edge(START, \"chatbot\")  # Start → chatbot\n",
    "graph_builder.add_edge(\"chatbot\", END)  # Chatbot → End\n",
    "\n",
    "# Compile the graph\n",
    "graph = graph_builder.compile()\n",
    "\n",
    "\n",
    "# Function to stream graph updates\n",
    "def stream_graph_updates(user_input: str):\n",
    "    \"\"\"\n",
    "    Streams updates from the graph in response to user input.\n",
    "    \"\"\"\n",
    "    # Prepare the input state with the user's message\n",
    "    initial_state = {\"messages\": [{\"role\": \"user\", \"content\": user_input}]}\n",
    "    \n",
    "    # Stream events from the StateGraph\n",
    "    for event in graph.stream(initial_state):\n",
    "        for value in event.values():\n",
    "            # Print the assistant's response, which is always the last message\n",
    "            print(\"Assistant:\", value[\"messages\"][-1].content)\n",
    "\n",
    "\n",
    "# Main loop for interaction\n",
    "if __name__ == \"__main__\":\n",
    "    print(\"Chatbot is ready! Type 'exit', 'quit', or 'q' to end the session.\")\n",
    "    while True:\n",
    "        try:\n",
    "            # Get user input\n",
    "            user_input = input(\"User: \")\n",
    "            # Exit condition\n",
    "            if user_input.lower() in [\"quit\", \"exit\", \"q\"]:\n",
    "                print(\"Goodbye!\")\n",
    "                break\n",
    "\n",
    "            # Update the graph and stream responses\n",
    "            stream_graph_updates(user_input)\n",
    "\n",
    "        except Exception as e:\n",
    "            # Fallback behavior for errors\n",
    "            print(f\"An error occurred: {e}\")\n",
    "            print(\"Defaulting to a static response...\")\n",
    "            fallback_input = \"What do you know about LangGraph?\"\n",
    "            print(\"User:\", fallback_input)\n",
    "            stream_graph_updates(fallback_input)\n",
    "            break"
   ]
  },
  {
   "cell_type": "code",
   "execution_count": 0,
   "metadata": {
    "application/vnd.databricks.v1+cell": {
     "cellMetadata": {},
     "inputWidgets": {},
     "nuid": "6f4684b3-a7a4-485a-98ec-b5837c44c1fc",
     "showTitle": false,
     "tableResultSettingsMap": {},
     "title": ""
    }
   },
   "outputs": [],
   "source": []
  }
 ],
 "metadata": {
  "application/vnd.databricks.v1+notebook": {
   "computePreferences": {
    "hardware": {
     "accelerator": null,
     "gpuPoolId": null,
     "memory": "HIGH"
    }
   },
   "dashboards": [],
   "environmentMetadata": {
    "base_environment": "",
    "environment_version": "2"
   },
   "inputWidgetPreferences": null,
   "language": "python",
   "notebookMetadata": {
    "pythonIndentUnit": 4
   },
   "notebookName": "Module5_Practice",
   "widgets": {}
  },
  "language_info": {
   "name": "python"
  }
 },
 "nbformat": 4,
 "nbformat_minor": 0
}
