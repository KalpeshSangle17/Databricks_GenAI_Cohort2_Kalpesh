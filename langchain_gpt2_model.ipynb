{
 "cells": [
  {
   "cell_type": "code",
   "execution_count": 0,
   "metadata": {
    "application/vnd.databricks.v1+cell": {
     "cellMetadata": {
      "byteLimit": 2048000,
      "rowLimit": 10000
     },
     "inputWidgets": {},
     "nuid": "af493a98-1fe0-477e-bc06-4107fd58bc27",
     "showTitle": false,
     "tableResultSettingsMap": {},
     "title": ""
    }
   },
   "outputs": [],
   "source": [
    "# Install required libraries (if not installed on the cluster yet)\n",
    "%pip install transformers torch"
   ]
  },
  {
   "cell_type": "code",
   "execution_count": 0,
   "metadata": {
    "application/vnd.databricks.v1+cell": {
     "cellMetadata": {
      "byteLimit": 2048000,
      "rowLimit": 10000
     },
     "inputWidgets": {},
     "nuid": "96b8a70c-bc10-471f-ac2c-5e57d81e294b",
     "showTitle": false,
     "tableResultSettingsMap": {},
     "title": ""
    }
   },
   "outputs": [],
   "source": [
    "from transformers import pipeline\n",
    "\n",
    "# Load a pre-trained GPT-2 model\n",
    "generator = pipeline(\"text-generation\", model=\"gpt2\")"
   ]
  },
  {
   "cell_type": "code",
   "execution_count": 0,
   "metadata": {
    "application/vnd.databricks.v1+cell": {
     "cellMetadata": {
      "byteLimit": 2048000,
      "rowLimit": 10000
     },
     "inputWidgets": {},
     "nuid": "68df3e51-a8f7-401b-8a24-c959c0e3b2f4",
     "showTitle": false,
     "tableResultSettingsMap": {},
     "title": ""
    }
   },
   "outputs": [],
   "source": [
    "def generate_text(prompt, max_new_tokens=250):\n",
    "    # Text generation with truncation and explicit max_new_tokens\n",
    "    result = generator(\n",
    "        prompt,\n",
    "        max_new_tokens=max_new_tokens,  # Limit the generated text length\n",
    "        num_return_sequences=1,        # Return only 1 output\n",
    "        truncation=True                # Explicitly enable truncation\n",
    "    )\n",
    "    return result[0][\"generated_text\"]\n",
    "\n",
    "# Example usage: Test text generation\n",
    "prompt = \"In the world of AI,\"\n",
    "output = generate_text(prompt)\n",
    "print(f\"Generated Text: {output}\")"
   ]
  },
  {
   "cell_type": "code",
   "execution_count": 0,
   "metadata": {
    "application/vnd.databricks.v1+cell": {
     "cellMetadata": {
      "byteLimit": 2048000,
      "rowLimit": 10000
     },
     "inputWidgets": {},
     "nuid": "8a30e436-c58f-4897-b1f3-43bfb60c688a",
     "showTitle": false,
     "tableResultSettingsMap": {},
     "title": ""
    }
   },
   "outputs": [],
   "source": [
    "%pip install langchain"
   ]
  },
  {
   "cell_type": "code",
   "execution_count": 0,
   "metadata": {
    "application/vnd.databricks.v1+cell": {
     "cellMetadata": {
      "byteLimit": 2048000,
      "rowLimit": 10000
     },
     "inputWidgets": {},
     "nuid": "441e71dd-4ea4-4aff-a7fd-f7ee01e25a32",
     "showTitle": false,
     "tableResultSettingsMap": {},
     "title": ""
    }
   },
   "outputs": [],
   "source": [
    "from langchain.prompts import PromptTemplate\n",
    "from langchain.schema.runnable import RunnableMap\n",
    "from transformers import pipeline\n",
    "\n",
    "# Load the GPT-2 model using Hugging Face (transformers pipeline)\n",
    "generator = pipeline('text-generation', model='gpt2')\n",
    "\n",
    "# Define a custom wrapper for Hugging Face model compatibility with LangChain\n",
    "class DatabricksLLM:\n",
    "    \"\"\"Custom Runnable-compatible wrapper for Hugging Face models.\"\"\"\n",
    "\n",
    "    def __init__(self, generator):\n",
    "        self.generator = generator\n",
    "\n",
    "    def __call__(self, prompt) -> str:\n",
    "        # Extract string if prompt is a StringPromptValue\n",
    "        if hasattr(prompt, 'to_string'):\n",
    "            prompt = prompt.to_string()\n",
    "        result = self.generator(\n",
    "            prompt,\n",
    "            max_new_tokens=200,\n",
    "            num_return_sequences=1\n",
    "        )\n",
    "        return result[0][\"generated_text\"]\n",
    "\n",
    "# Create an instance of the custom DatabricksLLM\n",
    "databricks_llm = DatabricksLLM(generator)\n",
    "\n",
    "# Define a prompt template\n",
    "prompt = PromptTemplate(\n",
    "    input_variables=[\"topic\"],\n",
    "    template=\"Explain {topic} in detail.\"\n",
    ")\n",
    "\n",
    "# Chain the prompt and DatabricksLLM using the new `Runnable` API\n",
    "chain = prompt | databricks_llm\n",
    "\n",
    "# Example usage\n",
    "response = chain.invoke({\"topic\": \"gravity\"})\n",
    "print(\"Generated Response:\\n\", response)"
   ]
  },
  {
   "cell_type": "code",
   "execution_count": 0,
   "metadata": {
    "application/vnd.databricks.v1+cell": {
     "cellMetadata": {},
     "inputWidgets": {},
     "nuid": "5420c294-66f9-437a-a0fa-3760a3f801ba",
     "showTitle": false,
     "tableResultSettingsMap": {},
     "title": ""
    }
   },
   "outputs": [],
   "source": []
  }
 ],
 "metadata": {
  "application/vnd.databricks.v1+notebook": {
   "computePreferences": {
    "hardware": {
     "accelerator": null,
     "gpuPoolId": null,
     "memory": null
    }
   },
   "dashboards": [],
   "environmentMetadata": {
    "base_environment": "",
    "environment_version": "3"
   },
   "inputWidgetPreferences": null,
   "language": "python",
   "notebookMetadata": {
    "pythonIndentUnit": 4
   },
   "notebookName": "langchain_gpt2_model",
   "widgets": {}
  },
  "language_info": {
   "name": "python"
  }
 },
 "nbformat": 4,
 "nbformat_minor": 0
}
